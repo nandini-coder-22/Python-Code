{
  "nbformat": 4,
  "nbformat_minor": 0,
  "metadata": {
    "colab": {
      "provenance": [],
      "authorship_tag": "ABX9TyMHeBzt2+DiIfECw+sQaHnv",
      "include_colab_link": true
    },
    "kernelspec": {
      "name": "python3",
      "display_name": "Python 3"
    },
    "language_info": {
      "name": "python"
    }
  },
  "cells": [
    {
      "cell_type": "markdown",
      "metadata": {
        "id": "view-in-github",
        "colab_type": "text"
      },
      "source": [
        "<a href=\"https://colab.research.google.com/github/nandini-coder-22/Python-Code/blob/main/python.ipynb\" target=\"_parent\"><img src=\"https://colab.research.google.com/assets/colab-badge.svg\" alt=\"Open In Colab\"/></a>"
      ]
    },
    {
      "cell_type": "code",
      "source": [
        "# Python:Python is a high-level programming language that is easy to read, write, and learn.\n",
        "# Python Variable:A Python variable is simply a name that use to store a value in a program. it's just like a container that holds data.\n",
        "# Variable Syntax: Variable_Name= Value\n",
        "\n",
        "a=10        #integer\n",
        "b=10.35     #float\n",
        "c=\"Nans\"    #string\n",
        "d=True      #boolean\n",
        "print(f\"integer value: {a}\\nfloating value: {b}\\nstring value: {c}\\nboolean value: {d}\")"
      ],
      "metadata": {
        "colab": {
          "base_uri": "https://localhost:8080/"
        },
        "id": "0U7TJ1HXKbgg",
        "outputId": "05944f80-448b-4db5-d7a2-85d45b3da4d3"
      },
      "execution_count": null,
      "outputs": [
        {
          "output_type": "stream",
          "name": "stdout",
          "text": [
            "integer value: 10\n",
            "floating value: 10.35\n",
            "string value: Nans\n",
            "boolean value: True\n"
          ]
        }
      ]
    },
    {
      "cell_type": "code",
      "source": [
        "# Python Data types: In Python, a data type tells the computer what kind of value a variable holds. It helps Python know how to store and handle that value.\n",
        "# Python User built Data types are: int,float,string,boolean.\n",
        "# Python built-in types : list,tuble,set,dict.\n",
        "\n",
        "a=10\n",
        "b=10.35\n",
        "c=\"Nans\"\n",
        "d=True\n",
        "marks=[98,88,92,95]\n",
        "num=(10,20,30,40)\n",
        "fruits={\"mango\": \"yellow\",\"apple\":\"red\",}\n",
        "print(f\"{type(a)}\\n{type(b)}\\n{type(c)}\\n{type(d)}\\n{type(marks)}\\n{type(num)}\\n{type(fruits)}\")"
      ],
      "metadata": {
        "colab": {
          "base_uri": "https://localhost:8080/"
        },
        "id": "yEmK7s4HPH2I",
        "outputId": "99685ca2-0b6a-40e2-acf2-0e9ea217bd15"
      },
      "execution_count": null,
      "outputs": [
        {
          "output_type": "stream",
          "name": "stdout",
          "text": [
            "<class 'int'>\n",
            "<class 'float'>\n",
            "<class 'str'>\n",
            "<class 'bool'>\n",
            "<class 'list'>\n",
            "<class 'tuple'>\n",
            "<class 'dict'>\n"
          ]
        }
      ]
    },
    {
      "cell_type": "code",
      "source": [
        "# Python Opertors : Operators are symbols that tell Python to perform specific operations.\n",
        "# Arithmetic Opertors: +,-,*,/,%\n",
        "\n",
        "a=10\n",
        "b=20\n",
        "print(\"Addition of two values:\",a+b)\n",
        "print(\"Subtract of two values:\",a-b)\n",
        "print(\"Multiplication of two values:\",a*b)\n",
        "print(\"Division of two values:\",a/b)\n",
        "print(\"Module of two values:\",a%b)"
      ],
      "metadata": {
        "colab": {
          "base_uri": "https://localhost:8080/"
        },
        "id": "-tLcQg4uYmGF",
        "outputId": "874f0598-ba59-4ea9-c50c-7e9993b37256"
      },
      "execution_count": 4,
      "outputs": [
        {
          "output_type": "stream",
          "name": "stdout",
          "text": [
            "Addition of two values: 30\n",
            "Subtract of two values: -10\n",
            "Multiplication of two values: 200\n",
            "Division of two values: 0.5\n",
            "Module of two values: 10\n"
          ]
        }
      ]
    },
    {
      "cell_type": "code",
      "source": [
        "# Relational Opertors: >,<,>=,<=,==,!=\n",
        "\n",
        "a=15\n",
        "b=5\n",
        "print(a == b)   # False\n",
        "print(a != b)   # True\n",
        "print(a > b)    # True\n",
        "print(a < b)    # False\n",
        "print(a >= b)   # True\n",
        "print(a <= b)   # False"
      ],
      "metadata": {
        "colab": {
          "base_uri": "https://localhost:8080/"
        },
        "id": "lSaI2_ccdGiG",
        "outputId": "fdc2240f-5d0d-4871-86eb-3bbf746ce492"
      },
      "execution_count": 5,
      "outputs": [
        {
          "output_type": "stream",
          "name": "stdout",
          "text": [
            "False\n",
            "True\n",
            "True\n",
            "False\n",
            "True\n",
            "False\n"
          ]
        }
      ]
    },
    {
      "cell_type": "code",
      "source": [
        "# Assignment Opertaors: =,+=,-=,*=,/=.\n",
        "\n",
        "x=5\n",
        "x+=2\n",
        "x-=3\n",
        "x*=2\n",
        "x/=3\n",
        "print(x)"
      ],
      "metadata": {
        "colab": {
          "base_uri": "https://localhost:8080/"
        },
        "id": "-PuXatA8dv8K",
        "outputId": "2c0bbbdf-ed07-4df5-a0fe-81229265a7d3"
      },
      "execution_count": 10,
      "outputs": [
        {
          "output_type": "stream",
          "name": "stdout",
          "text": [
            "2.6666666666666665\n"
          ]
        }
      ]
    },
    {
      "cell_type": "code",
      "source": [
        "# Logical Operators: and, or, not.\n",
        "\n",
        "x = True\n",
        "y = False\n",
        "print(x and y)   # False\n",
        "print(x or y)    # True\n",
        "print(not x)     # False"
      ],
      "metadata": {
        "colab": {
          "base_uri": "https://localhost:8080/"
        },
        "id": "-buRFdVjfWqT",
        "outputId": "f814e40e-4524-4d1f-e079-ad61a105ae93"
      },
      "execution_count": 11,
      "outputs": [
        {
          "output_type": "stream",
          "name": "stdout",
          "text": [
            "False\n",
            "True\n",
            "False\n"
          ]
        }
      ]
    },
    {
      "cell_type": "code",
      "source": [
        "# Membership Operators:\n",
        "\n",
        "fruits = [\"apple\", \"banana\", \"mango\"]\n",
        "print(\"apple\" in fruits)       # True\n",
        "print(\"grape\" not in fruits)   # True"
      ],
      "metadata": {
        "id": "F3hmTp7AgpYM",
        "outputId": "732cd6de-6f8f-472f-c0e8-8f0e3d83e08e",
        "colab": {
          "base_uri": "https://localhost:8080/"
        }
      },
      "execution_count": 12,
      "outputs": [
        {
          "output_type": "stream",
          "name": "stdout",
          "text": [
            "True\n",
            "True\n"
          ]
        }
      ]
    },
    {
      "cell_type": "code",
      "source": [
        "# Identity Operators:\n",
        "\n",
        "a = [1, 2, 3]\n",
        "b = a\n",
        "c = [1, 2, 3]\n",
        "print(a is b)       # True (same object)\n",
        "print(a is c)       # False (different object, same value)\n",
        "print(a is not c)   # True"
      ],
      "metadata": {
        "id": "0Z6bJpEchLrk",
        "outputId": "8b511a5c-9bdc-424e-eca8-c4aa6ac50cd6",
        "colab": {
          "base_uri": "https://localhost:8080/"
        }
      },
      "execution_count": 13,
      "outputs": [
        {
          "output_type": "stream",
          "name": "stdout",
          "text": [
            "True\n",
            "False\n",
            "True\n"
          ]
        }
      ]
    }
  ]
}