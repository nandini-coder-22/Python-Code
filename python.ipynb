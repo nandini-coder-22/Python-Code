{
  "nbformat": 4,
  "nbformat_minor": 0,
  "metadata": {
    "colab": {
      "provenance": [],
      "authorship_tag": "ABX9TyMhTSPfM03FehXixz2z4YSg",
      "include_colab_link": true
    },
    "kernelspec": {
      "name": "python3",
      "display_name": "Python 3"
    },
    "language_info": {
      "name": "python"
    }
  },
  "cells": [
    {
      "cell_type": "markdown",
      "metadata": {
        "id": "view-in-github",
        "colab_type": "text"
      },
      "source": [
        "<a href=\"https://colab.research.google.com/github/nandini-coder-22/Python-Code/blob/main/python.ipynb\" target=\"_parent\"><img src=\"https://colab.research.google.com/assets/colab-badge.svg\" alt=\"Open In Colab\"/></a>"
      ]
    },
    {
      "cell_type": "code",
      "source": [
        "# Python:Python is a high-level programming language that is easy to read, write, and learn.\n",
        "# Python Variable:A Python variable is simply a name that use to store a value in a program. it's just like a container that holds data.\n",
        "# Variable Syntax: Variable_Name= Value\n",
        "\n",
        "a=10        #integer\n",
        "b=10.35     #float\n",
        "c=\"Nans\"    #string\n",
        "d=True      #boolean\n",
        "print(f\"integer value: {a}\\nfloating value: {b}\\nstring value: {c}\\nboolean value: {d}\")"
      ],
      "metadata": {
        "colab": {
          "base_uri": "https://localhost:8080/"
        },
        "id": "0U7TJ1HXKbgg",
        "outputId": "05944f80-448b-4db5-d7a2-85d45b3da4d3"
      },
      "execution_count": 6,
      "outputs": [
        {
          "output_type": "stream",
          "name": "stdout",
          "text": [
            "integer value: 10\n",
            "floating value: 10.35\n",
            "string value: Nans\n",
            "boolean value: True\n"
          ]
        }
      ]
    },
    {
      "cell_type": "code",
      "source": [
        "# Python Data types: In Python, a data type tells the computer what kind of value a variable holds. It helps Python know how to store and handle that value.\n",
        "# Python User built Data types are: int,float,string,boolean.\n",
        "# Python built-in types : list,tuble,set,dict.\n",
        "\n",
        "a=10\n",
        "b=10.35\n",
        "c=\"Nans\"\n",
        "d=True\n",
        "marks=[98,88,92,95]\n",
        "num=(10,20,30,40)\n",
        "fruits={\"mango\": \"yellow\",\"apple\":\"red\",}\n",
        "print(f\"{type(a)}\\n{type(b)}\\n{type(c)}\\n{type(d)}\\n{type(marks)}\\n{type(num)}\\n{type(fruits)}\")\n",
        "\n",
        "\n"
      ],
      "metadata": {
        "colab": {
          "base_uri": "https://localhost:8080/"
        },
        "id": "yEmK7s4HPH2I",
        "outputId": "99685ca2-0b6a-40e2-acf2-0e9ea217bd15"
      },
      "execution_count": 8,
      "outputs": [
        {
          "output_type": "stream",
          "name": "stdout",
          "text": [
            "<class 'int'>\n",
            "<class 'float'>\n",
            "<class 'str'>\n",
            "<class 'bool'>\n",
            "<class 'list'>\n",
            "<class 'tuple'>\n",
            "<class 'dict'>\n"
          ]
        }
      ]
    }
  ]
}